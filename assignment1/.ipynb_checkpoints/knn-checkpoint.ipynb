{
 "cells": [
  {
   "cell_type": "markdown",
   "metadata": {},
   "source": [
    "# k-Nearest Neighbor (kNN) exercise\n",
    "\n",
    "*Complete and hand in this completed worksheet (including its outputs and any supporting code outside of the worksheet) with your assignment submission. For more details see the [assignments page](http://vision.stanford.edu/teaching/cs231n/assignments.html) on the course website.*\n",
    "\n",
    "The kNN classifier consists of two stages:\n",
    "\n",
    "- During training, the classifier takes the training data and simply remembers it\n",
    "- During testing, kNN classifies every test image by comparing to all training images and transfering the labels of the k most similar training examples\n",
    "- The value of k is cross-validated\n",
    "\n",
    "In this exercise you will implement these steps and understand the basic Image Classification pipeline, cross-validation, and gain proficiency in writing efficient, vectorized code."
   ]
  },
  {
   "cell_type": "code",
   "execution_count": 1,
   "metadata": {
    "collapsed": false
   },
   "outputs": [],
   "source": [
    "# Run some setup code for this notebook.\n",
    "\n",
    "import random\n",
    "import numpy as np\n",
    "from cs231n.data_utils import load_CIFAR10\n",
    "import matplotlib.pyplot as plt\n",
    "\n",
    "# This is a bit of magic to make matplotlib figures appear inline in the notebook\n",
    "# rather than in a new window.\n",
    "%matplotlib inline\n",
    "plt.rcParams['figure.figsize'] = (10.0, 8.0) # set default size of plots\n",
    "plt.rcParams['image.interpolation'] = 'nearest'\n",
    "plt.rcParams['image.cmap'] = 'gray'\n",
    "\n",
    "# Some more magic so that the notebook will reload external python modules;\n",
    "# see http://stackoverflow.com/questions/1907993/autoreload-of-modules-in-ipython\n",
    "%load_ext autoreload\n",
    "%autoreload 2\n",
    "\n",
    "\n",
    "\n",
    "\n"
   ]
  },
  {
   "cell_type": "code",
   "execution_count": 2,
   "metadata": {
    "collapsed": false
   },
   "outputs": [
    {
     "name": "stdout",
     "output_type": "stream",
     "text": [
      "Training data shape:  (20000, 32, 32, 3)\n",
      "Training labels shape:  (20000,)\n",
      "Test data shape:  (10000, 32, 32, 3)\n",
      "Test labels shape:  (10000,)\n"
     ]
    }
   ],
   "source": [
    "# Load the raw CIFAR-10 data.\n",
    "cifar10_dir = 'cs231n/datasets/cifar-10-batches-py'\n",
    "X_train, y_train, X_test, y_test = load_CIFAR10(cifar10_dir)\n",
    "\n",
    "# As a sanity check, we print out the size of the training and test data.\n",
    "print 'Training data shape: ', X_train.shape\n",
    "print 'Training labels shape: ', y_train.shape\n",
    "print 'Test data shape: ', X_test.shape\n",
    "print 'Test labels shape: ', y_test.shape"
   ]
  },
  {
   "cell_type": "code",
   "execution_count": 4,
   "metadata": {
    "collapsed": false
   },
   "outputs": [],
   "source": [
    "# Visualize some examples from the dataset.\n",
    "# We show a few examples of training images from each class.\n",
    "classes = ['plane', 'car', 'bird', 'cat', 'deer', 'dog', 'frog', 'horse', 'ship', 'truck']\n",
    "num_classes = len(classes)\n",
    "samples_per_class = 7\n",
    "for y, cls in enumerate(classes):\n",
    "    idxs = np.flatnonzero(y_train == y)\n",
    "    idxs = np.random.choice(idxs, samples_per_class, replace=False)\n",
    "    for i, idx in enumerate(idxs):\n",
    "        plt_idx = i * num_classes + y + 1\n",
    "        plt.subplot(samples_per_class, num_classes, plt_idx)\n",
    "        plt.imshow(X_train[idx].astype('uint8'))\n",
    "        plt.axis('off')\n",
    "        if i == 0:\n",
    "            plt.title(cls)\n",
    "plt.show()"
   ]
  },
  {
   "cell_type": "code",
   "execution_count": 5,
   "metadata": {
    "collapsed": false
   },
   "outputs": [],
   "source": [
    "# Subsample the data for more efficient code execution in this exercise\n",
    "num_training = 5000\n",
    "mask = range(num_training)\n",
    "X_train = X_train[mask]\n",
    "y_train = y_train[mask]\n",
    "\n",
    "num_test = 500\n",
    "mask = range(num_test)\n",
    "X_test = X_test[mask]\n",
    "y_test = y_test[mask]"
   ]
  },
  {
   "cell_type": "code",
   "execution_count": 6,
   "metadata": {
    "collapsed": false
   },
   "outputs": [
    {
     "name": "stdout",
     "output_type": "stream",
     "text": [
      "(5000, 3072)\n",
      "(5000, 3072) (500, 3072)\n"
     ]
    }
   ],
   "source": [
    "# Reshape the image data into rows\n",
    "X_train = np.reshape(X_train, (X_train.shape[0], -1))\n",
    "print X_train.shape\n",
    "X_test = np.reshape(X_test, (X_test.shape[0], -1))\n",
    "print X_train.shape, X_test.shape"
   ]
  },
  {
   "cell_type": "code",
   "execution_count": 17,
   "metadata": {
    "collapsed": false
   },
   "outputs": [],
   "source": [
    "from cs231n.classifiers import KNearestNeighbor\n",
    "\n",
    "# Create a kNN classifier instance. \n",
    "# Remember that training a kNN classifier is a noop: \n",
    "# the Classifier simply remembers the data and does no further processing \n",
    "classifier = KNearestNeighbor()\n",
    "classifier.train(X_train, y_train)"
   ]
  },
  {
   "cell_type": "markdown",
   "metadata": {},
   "source": [
    "We would now like to classify the test data with the kNN classifier. Recall that we can break down this process into two steps: \n",
    "\n",
    "1. First we must compute the distances between all test examples and all train examples. \n",
    "2. Given these distances, for each test example we find the k nearest examples and have them vote for the label\n",
    "\n",
    "Lets begin with computing the distance matrix between all training and test examples. For example, if there are **Ntr** training examples and **Nte** test examples, this stage should result in a **Nte x Ntr** matrix where each element (i,j) is the distance between the i-th test and j-th train example.\n",
    "\n",
    "First, open `cs231n/classifiers/k_nearest_neighbor.py` and implement the function `compute_distances_two_loops` that uses a (very inefficient) double loop over all pairs of (test, train) examples and computes the distance matrix one element at a time."
   ]
  },
  {
   "cell_type": "code",
   "execution_count": 51,
   "metadata": {
    "collapsed": false
   },
   "outputs": [],
   "source": [
    "# Open cs231n/classifiers/k_nearest_neighbor.py and implement\n",
    "# compute_distances_two_loops.\n",
    "\n",
    "# Test your implementation:\n",
    "dists = classifier.compute_distances_two_loops(X_test)\n",
    "print dists.shape"
   ]
  },
  {
   "cell_type": "code",
   "execution_count": 21,
   "metadata": {
    "collapsed": false
   },
   "outputs": [
    {
     "data": {
      "image/png": "[encoded data removed]",
      "text/plain": [
       "<matplotlib.figure.Figure at 0x7f27bc131890>"
      ]
     },
     "metadata": {},
     "output_type": "display_data"
    }
   ],
   "source": [
    "# We can visualize the distance matrix: each row is a single test example and\n",
    "# its distances to training examples\n",
    "plt.imshow(dists, interpolation='none')\n",
    "plt.show()"
   ]
  },
  {
   "cell_type": "markdown",
   "metadata": {},
   "source": [
    "**Inline Question #1:** Notice the structured patterns in the distance matrix, where some rows or columns are visible brighter. (Note that with the default color scheme black indicates low distances while white indicates high distances.)\n",
    "\n",
    "- What in the data is the cause behind the distinctly bright rows?\n",
    "- What causes the columns?"
   ]
  },
  {
   "cell_type": "markdown",
   "metadata": {},
   "source": [
    "**Your Answer**: *fill this in.*\n",
    "That basically implies that the image corresponding to that point is quitre different from the training data and vice-versa.\n"
   ]
  },
  {
   "cell_type": "code",
   "execution_count": 33,
   "metadata": {
    "collapsed": false
   },
   "outputs": [
    {
     "name": "stdout",
     "output_type": "stream",
     "text": [
      "Got 101 / 500 correct => accuracy: 0.202000\n"
     ]
    }
   ],
   "source": [
    "# Now implement the function predict_labels and run the code below:\n",
    "# We use k = 1 (which is Nearest Neighbor).\n",
    "y_test_pred = classifier.predict_labels(dists, k=1)\n",
    "\n",
    "# Compute and print the fraction of correctly predicted examples\n",
    "num_correct = np.sum(y_test_pred == y_test)\n",
    "accuracy = float(num_correct) / num_test\n",
    "print 'Got %d / %d correct => accuracy: %f' % (num_correct, num_test, accuracy)"
   ]
  },
  {
   "cell_type": "markdown",
   "metadata": {},
   "source": [
    "You should expect to see approximately `27%` accuracy. Now lets try out a larger `k`, say `k = 5`:"
   ]
  },
  {
   "cell_type": "code",
   "execution_count": 38,
   "metadata": {
    "collapsed": false
   },
   "outputs": [
    {
     "name": "stdout",
     "output_type": "stream",
     "text": [
      "Got 130 / 500 correct => accuracy: 0.260000\n"
     ]
    }
   ],
   "source": [
    "y_test_pred = classifier.predict_labels(dists, k=5)\n",
    "num_correct = np.sum(y_test_pred == y_test)\n",
    "accuracy = float(num_correct) / num_test\n",
    "print 'Got %d / %d correct => accuracy: %f' % (num_correct, num_test, accuracy)"
   ]
  },
  {
   "cell_type": "markdown",
   "metadata": {},
   "source": [
    "You should expect to see a slightly better performance than with `k = 1`."
   ]
  },
  {
   "cell_type": "code",
   "execution_count": null,
   "metadata": {
    "collapsed": true
   },
   "outputs": [],
   "source": []
  },
  {
   "cell_type": "code",
   "execution_count": null,
   "metadata": {
    "collapsed": false
   },
   "outputs": [],
   "source": [
    "# Now lets speed up distance matrix computation by using partial vectorization\n",
    "# with one loop. Implement the function compute_distances_one_loop and run the\n",
    "# code below:\n",
    "dists_one = classifier.compute_distances_one_loop(X_test)\n",
    "\n",
    "# To ensure that our vectorized implementation is correct, we make sure that it\n",
    "# agrees with the naive implementation. There are many ways to decide whether\n",
    "# two matrices are similar; one of the simplest is the Frobenius norm. In case\n",
    "# you haven't seen it before, the Frobenius norm of two matrices is the square\n",
    "# root of the squared sum of differences of all elements; in other words, reshape\n",
    "# the matrices into vectors and compute the Euclidean distance between them.\n",
    "y_pred[i] = np.array(stats.mode(closest_y))[0]\n",
    "difference = np.linalg.norm(dists - dists_one, ord='fro')\n",
    "print 'Difference was: %f' % (difference, )\n",
    "if difference < 0.001:\n",
    "  print 'Good! The distance matrices are the same'\n",
    "else:\n",
    "  print 'Uh-oh! The distance matrices are different'"
   ]
  },
  {
   "cell_type": "code",
   "execution_count": 46,
   "metadata": {
    "collapsed": false
   },
   "outputs": [
    {
     "name": "stdout",
     "output_type": "stream",
     "text": [
      "0.0244519710541\n",
      "Difference was: 0.000000\n",
      "Good! The distance matrices are the same\n"
     ]
    }
   ],
   "source": [
    "# Now implement the fully vectorized version inside compute_distances_no_loops\n",
    "# and run the code\n",
    "dists_two = classifier.compute_distances_no_loops(X_test)\n",
    "import time \n",
    "tic = time.time()\n",
    "# check that the distance matrix agrees with the one we computed before:\n",
    "difference = np.linalg.norm(dists - dists_two, ord='fro')\n",
    "toc = time.time()\n",
    "print toc-tic\n",
    "print 'Difference was: %f' % (difference, )\n",
    "if difference < 0.001:\n",
    "  print 'Good! The distance matrices are the same'\n",
    "else:\n",
    "  print 'Uh-oh! The distance matrices are different'"
   ]
  },
  {
   "cell_type": "code",
   "execution_count": null,
   "metadata": {
    "collapsed": false
   },
   "outputs": [],
   "source": [
    "# Let's compare how fast the implementations are\n",
    "def time_function(f, *args):\n",
    "  \"\"\"\n",
    "  Call a function f with args and return the time (in seconds) that it took to execute\n",
    "  \"\"\"\n",
    "  import time\n",
    "  tic = time.time()\n",
    "  f(*args)\n",
    "  toc = time.time()\n",
    "  return toc - tic\n",
    "\n",
    "two_loop_time = time_function(classifier.compute_distances_two_loops, X_test)\n",
    "print 'Two loop version took %f seconds' % two_loop_time\n",
    "\n",
    "one_loop_time = time_function(classifier.compute_distances_one_loop, X_test)\n",
    "print 'One loop version took %f seconds' % one_loop_time\n",
    "\n",
    "no_loop_time = time_function(classifier.compute_distances_no_loops, X_test)\n",
    "print 'No loop version took %f seconds' % no_loop_time\n",
    "\n",
    "# you should see significantly faster performance with the fully vectorized implementation"
   ]
  },
  {
   "cell_type": "markdown",
   "metadata": {},
   "source": [
    "### Cross-validation\n",
    "\n",
    "We have implemented the k-Nearest Neighbor classifier but we set the value k = 5 arbitrarily. We will now determine the best value of this hyperparameter with cross-validation."
   ]
  },
  {
   "cell_type": "code",
   "execution_count": 131,
   "metadata": {
    "collapsed": false
   },
   "outputs": [
    {
     "name": "stdout",
     "output_type": "stream",
     "text": [
      "Got 233 / 500 correct => accuracy: 0.466000\n",
      "Got 248 / 500 correct => accuracy: 0.496000\n",
      "Got 239 / 500 correct => accuracy: 0.478000\n",
      "Got 255 / 500 correct => accuracy: 0.510000\n",
      "Got 258 / 500 correct => accuracy: 0.516000\n",
      "Got 244 / 500 correct => accuracy: 0.488000\n",
      "Got 239 / 500 correct => accuracy: 0.478000\n",
      "Got 232 / 500 correct => accuracy: 0.464000\n",
      "Got 262 / 500 correct => accuracy: 0.524000\n",
      "Got 243 / 500 correct => accuracy: 0.486000\n",
      "Got 248 / 500 correct => accuracy: 0.496000\n",
      "Got 270 / 500 correct => accuracy: 0.540000\n",
      "Got 256 / 500 correct => accuracy: 0.512000\n",
      "Got 268 / 500 correct => accuracy: 0.536000\n",
      "Got 261 / 500 correct => accuracy: 0.522000\n",
      "Got 250 / 500 correct => accuracy: 0.500000\n",
      "Got 274 / 500 correct => accuracy: 0.548000\n",
      "Got 262 / 500 correct => accuracy: 0.524000\n",
      "Got 259 / 500 correct => accuracy: 0.518000\n",
      "Got 273 / 500 correct => accuracy: 0.546000\n",
      "Got 252 / 500 correct => accuracy: 0.504000\n",
      "Got 281 / 500 correct => accuracy: 0.562000\n",
      "Got 263 / 500 correct => accuracy: 0.526000\n",
      "Got 271 / 500 correct => accuracy: 0.542000\n",
      "Got 258 / 500 correct => accuracy: 0.516000\n",
      "Got 267 / 500 correct => accuracy: 0.534000\n",
      "Got 274 / 500 correct => accuracy: 0.548000\n",
      "Got 276 / 500 correct => accuracy: 0.552000\n",
      "Got 265 / 500 correct => accuracy: 0.530000\n",
      "Got 274 / 500 correct => accuracy: 0.548000\n",
      "Got 257 / 500 correct => accuracy: 0.514000\n",
      "Got 274 / 500 correct => accuracy: 0.548000\n",
      "Got 267 / 500 correct => accuracy: 0.534000\n",
      "Got 272 / 500 correct => accuracy: 0.544000\n",
      "Got 257 / 500 correct => accuracy: 0.514000\n",
      "Got 270 / 500 correct => accuracy: 0.540000\n",
      "Got 270 / 500 correct => accuracy: 0.540000\n",
      "Got 274 / 500 correct => accuracy: 0.548000\n",
      "Got 271 / 500 correct => accuracy: 0.542000\n",
      "Got 275 / 500 correct => accuracy: 0.550000\n",
      "Got 270 / 500 correct => accuracy: 0.540000\n",
      "Got 278 / 500 correct => accuracy: 0.556000\n",
      "Got 276 / 500 correct => accuracy: 0.552000\n",
      "Got 266 / 500 correct => accuracy: 0.532000\n",
      "Got 261 / 500 correct => accuracy: 0.522000\n",
      "Got 255 / 500 correct => accuracy: 0.510000\n",
      "Got 269 / 500 correct => accuracy: 0.538000\n",
      "Got 265 / 500 correct => accuracy: 0.530000\n",
      "Got 252 / 500 correct => accuracy: 0.504000\n",
      "Got 266 / 500 correct => accuracy: 0.532000\n",
      "k = 1, accuracy = 0.466000\n",
      "k = 1, accuracy = 0.496000\n",
      "k = 1, accuracy = 0.478000\n",
      "k = 1, accuracy = 0.510000\n",
      "k = 1, accuracy = 0.516000\n",
      "k = 3, accuracy = 0.488000\n",
      "k = 3, accuracy = 0.478000\n",
      "k = 3, accuracy = 0.464000\n",
      "k = 3, accuracy = 0.524000\n",
      "k = 3, accuracy = 0.486000\n",
      "k = 5, accuracy = 0.496000\n",
      "k = 5, accuracy = 0.540000\n",
      "k = 5, accuracy = 0.512000\n",
      "k = 5, accuracy = 0.536000\n",
      "k = 5, accuracy = 0.522000\n",
      "k = 8, accuracy = 0.500000\n",
      "k = 8, accuracy = 0.548000\n",
      "k = 8, accuracy = 0.524000\n",
      "k = 8, accuracy = 0.518000\n",
      "k = 8, accuracy = 0.546000\n",
      "k = 10, accuracy = 0.504000\n",
      "k = 10, accuracy = 0.562000\n",
      "k = 10, accuracy = 0.526000\n",
      "k = 10, accuracy = 0.542000\n",
      "k = 10, accuracy = 0.516000\n",
      "k = 12, accuracy = 0.534000\n",
      "k = 12, accuracy = 0.548000\n",
      "k = 12, accuracy = 0.552000\n",
      "k = 12, accuracy = 0.530000\n",
      "k = 12, accuracy = 0.548000\n",
      "k = 15, accuracy = 0.514000\n",
      "k = 15, accuracy = 0.548000\n",
      "k = 15, accuracy = 0.534000\n",
      "k = 15, accuracy = 0.544000\n",
      "k = 15, accuracy = 0.514000\n",
      "k = 20, accuracy = 0.540000\n",
      "k = 20, accuracy = 0.540000\n",
      "k = 20, accuracy = 0.548000\n",
      "k = 20, accuracy = 0.542000\n",
      "k = 20, accuracy = 0.550000\n",
      "k = 50, accuracy = 0.540000\n",
      "k = 50, accuracy = 0.556000\n",
      "k = 50, accuracy = 0.552000\n",
      "k = 50, accuracy = 0.532000\n",
      "k = 50, accuracy = 0.522000\n",
      "k = 100, accuracy = 0.510000\n",
      "k = 100, accuracy = 0.538000\n",
      "k = 100, accuracy = 0.530000\n",
      "k = 100, accuracy = 0.504000\n",
      "k = 100, accuracy = 0.532000\n"
     ]
    }
   ],
   "source": [
    "num_folds = 5\n",
    "k_choices = [1, 3, 5, 8, 10, 12, 15, 20, 50, 100]\n",
    "\n",
    "X_train_folds = []\n",
    "y_train_folds = []\n",
    "################################################################################\n",
    "# TODO:                                                                        #\n",
    "# Split up the training data into folds. After splitting, X_train_folds and    #\n",
    "# y_train_folds should each be lists of length num_folds, where                #\n",
    "# y_train_folds[i] is the label vector for the points in X_train_folds[i].     #\n",
    "# Hint: Look up the numpy array_split function.                                #\n",
    "################################################################################\n",
    "X_train_folds = np.array_split(X_train,num_folds)\n",
    "y_train_folds = np.array_split(y_train,num_folds)\n",
    "################################################################################\n",
    "#                                 END OF YOUR CODE                             #\n",
    "################################################################################\n",
    "\n",
    "# A dictionary holding the accuracies for different values of k that we find\n",
    "# when running cross-validation. After running cross-validation,\n",
    "# k_to_accuracies[k] should be a list of length num_folds giving the different\n",
    "# accuracy values that we found when using that value of k.\n",
    "k_to_accuracies = {}\n",
    "\n",
    "\n",
    "################################################################################\n",
    "# TODO:                                                                        #\n",
    "# Perform k-fold cross validation to find the best value of k. For each        #\n",
    "# possible value of k, run the k-nearest-neighbor algorithm num_folds times,   #\n",
    "# where in each case you use all but one of the folds as training data and the #\n",
    "# last fold as a validation set. Store the accuracies for all fold and all     #\n",
    "# values of k in the k_to_accuracies dictionary.                               #\n",
    "################################################################################\n",
    "for i in k_choices:\n",
    "    Accuracies = []\n",
    "    for j in range(num_folds):\n",
    "        test_x = X_train_folds[j]\n",
    "        test_y = y_train_folds[j]\n",
    "        trainset = range(num_folds)\n",
    "        trainset.remove(j)\n",
    "        train_x = X_train_folds[trainset[0]]\n",
    "        train_y = y_train_folds[trainset[0]]\n",
    "        for k, item in enumerate(trainset):\n",
    "            if k == 0: \n",
    "                continue\n",
    "            train_x = np.concatenate((train_x,X_train_folds[item]), axis=0)\n",
    "            train_y = np.concatenate((train_y,y_train_folds[item]), axis=0)\n",
    "        classifier.train(train_x, train_y)\n",
    "        dists_two = classifier.compute_distances_no_loops(test_x)\n",
    "        y_test_pred = classifier.predict_labels(dists_two, k=i)\n",
    "        num_correct = np.sum(y_test_pred == test_y)\n",
    "        accuracy = float(num_correct) / num_test\n",
    "        print 'Got %d / %d correct => accuracy: %f' % (num_correct, num_test, accuracy)\n",
    "        Accuracies = Accuracies + [accuracy]\n",
    "    k_to_accuracies[i] = Accuracies\n",
    "\n",
    "        \n",
    "\n",
    "################################################################################\n",
    "#                                 END OF YOUR CODE                             #\n",
    "################################################################################\n",
    "\n",
    "# Print out the computed accuracies\n",
    "for k in sorted(k_to_accuracies):\n",
    "    for accuracy in k_to_accuracies[k]:\n",
    "        print 'k = %d, accuracy = %f' % (k, accuracy)"
   ]
  },
  {
   "cell_type": "code",
   "execution_count": 132,
   "metadata": {
    "collapsed": false
   },
   "outputs": [
    {
     "data": {
      "image/png": "[encoded data removed]",
      "text/plain": [
       "<matplotlib.figure.Figure at 0x7f27b960fa10>"
      ]
     },
     "metadata": {},
     "output_type": "display_data"
    }
   ],
   "source": [
    "# plot the raw observations\n",
    "for k in k_choices:\n",
    "  accuracies = k_to_accuracies[k]\n",
    "  plt.scatter([k] * len(accuracies), accuracies)\n",
    "\n",
    "# plot the trend line with error bars that correspond to standard deviation\n",
    "accuracies_mean = np.array([np.mean(v) for k,v in sorted(k_to_accuracies.items())])\n",
    "accuracies_std = np.array([np.std(v) for k,v in sorted(k_to_accuracies.items())])\n",
    "plt.errorbar(k_choices, accuracies_mean, yerr=accuracies_std)\n",
    "plt.title('Cross-validation on k')\n",
    "plt.xlabel('k')\n",
    "plt.ylabel('Cross-validation accuracy')\n",
    "plt.show()"
   ]
  },
  {
   "cell_type": "code",
   "execution_count": 133,
   "metadata": {
    "collapsed": false
   },
   "outputs": [
    {
     "name": "stdout",
     "output_type": "stream",
     "text": [
      "Got 101 / 500 correct => accuracy: 0.202000\n"
     ]
    }
   ],
   "source": [
    "# Based on the cross-validation results above, choose the best value for k,   \n",
    "# retrain the classifier using all the training data, and test it on the test\n",
    "# data. You should be able to get above 28% accuracy on the test data.\n",
    "best_k = 1\n",
    "\n",
    "classifier = KNearestNeighbor()\n",
    "classifier.train(X_train, y_train)\n",
    "y_test_pred = classifier.predict(X_test, k=best_k)\n",
    "\n",
    "# Compute and display the accuracy\n",
    "num_correct = np.sum(y_test_pred == y_test)\n",
    "accuracy = float(num_correct) / num_test\n",
    "print 'Got %d / %d correct => accuracy: %f' % (num_correct, num_test, accuracy)"
   ]
  },
  {
   "cell_type": "code",
   "execution_count": 120,
   "metadata": {
    "collapsed": false
   },
   "outputs": [
    {
     "name": "stdout",
     "output_type": "stream",
     "text": [
      "[0, 1, 3, 4]\n",
      "0\n",
      "1\n",
      "3\n",
      "4\n"
     ]
    }
   ],
   "source": [
    "arr = np.array([[1,2,3,4], [5,6,7,8], [9,10,11,12]])\n",
    "\n",
    "s = np.split(arr,3)\n",
    "\n",
    "temp = s[0]\n",
    "\n",
    "temp = np.concatenate((temp,s[2]), axis=0)\n",
    "trainset = range(5)\n",
    "trainset.remove(2)\n",
    "print trainset\n",
    "for i in trainset:\n",
    "    print i"
   ]
  },
  {
   "cell_type": "code",
   "execution_count": 130,
   "metadata": {
    "collapsed": false
   },
   "outputs": [
    {
     "data": {
      "text/plain": [
       "[23, 3.03]"
      ]
     },
     "execution_count": 130,
     "metadata": {},
     "output_type": "execute_result"
    }
   ],
   "source": [
    "dict = {}\n",
    "g = 3.03\n",
    "p = [23]\n",
    "p = p+ [g]\n",
    "p"
   ]
  }
 ],
 "metadata": {
  "kernelspec": {
   "display_name": "Python 2",
   "language": "python",
   "name": "python2"
  },
  "language_info": {
   "codemirror_mode": {
    "name": "ipython",
    "version": 2
   },
   "file_extension": ".py",
   "mimetype": "text/x-python",
   "name": "python",
   "nbconvert_exporter": "python",
   "pygments_lexer": "ipython2",
   "version": "2.7.6"
  }
 },
 "nbformat": 4,
 "nbformat_minor": 0
}
